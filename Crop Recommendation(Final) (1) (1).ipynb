{
 "cells": [
  {
   "cell_type": "code",
   "execution_count": 1,
   "id": "6bdd710e-614d-4fa6-87e0-8a0a0d75043d",
   "metadata": {
    "executionInfo": {
     "elapsed": 745,
     "status": "ok",
     "timestamp": 1731395240959,
     "user": {
      "displayName": "sophia Makandar",
      "userId": "03923072930595316242"
     },
     "user_tz": -330
    },
    "id": "6bdd710e-614d-4fa6-87e0-8a0a0d75043d",
    "scrolled": true
   },
   "outputs": [
    {
     "name": "stderr",
     "output_type": "stream",
     "text": [
      "C:\\Users\\aarti\\anaconda3\\lib\\site-packages\\scipy\\__init__.py:146: UserWarning: A NumPy version >=1.16.5 and <1.23.0 is required for this version of SciPy (detected version 1.26.4\n",
      "  warnings.warn(f\"A NumPy version >={np_minversion} and <{np_maxversion}\"\n"
     ]
    }
   ],
   "source": [
    "# Importing required libraries\n",
    "import pandas as pd\n",
    "import numpy as np\n",
    "from sklearn.model_selection import train_test_split\n",
    "from sklearn.preprocessing import StandardScaler, LabelEncoder\n",
    "from sklearn.ensemble import RandomForestClassifier\n",
    "from sklearn.metrics import accuracy_score, classification_report, confusion_matrix\n",
    "import matplotlib.pyplot as plt\n",
    "import seaborn as sns"
   ]
  },
  {
   "cell_type": "code",
   "execution_count": 2,
   "id": "ca3d44b7-7d4c-4761-94a0-6869d56bab90",
   "metadata": {
    "executionInfo": {
     "elapsed": 3,
     "status": "ok",
     "timestamp": 1731395240959,
     "user": {
      "displayName": "sophia Makandar",
      "userId": "03923072930595316242"
     },
     "user_tz": -330
    },
    "id": "ca3d44b7-7d4c-4761-94a0-6869d56bab90"
   },
   "outputs": [],
   "source": [
    "# Step 1: Load the dataset\n",
    "df = pd.read_csv('crop_fertilizers.csv')"
   ]
  },
  {
   "cell_type": "code",
   "execution_count": 3,
   "id": "44aa8431-ac8a-4bbb-98c6-a32f8f6fccfe",
   "metadata": {
    "colab": {
     "base_uri": "https://localhost:8080/",
     "height": 424
    },
    "executionInfo": {
     "elapsed": 720,
     "status": "ok",
     "timestamp": 1731395241676,
     "user": {
      "displayName": "sophia Makandar",
      "userId": "03923072930595316242"
     },
     "user_tz": -330
    },
    "id": "44aa8431-ac8a-4bbb-98c6-a32f8f6fccfe",
    "outputId": "641e0575-688a-4938-e9ce-47e51493fecb"
   },
   "outputs": [
    {
     "data": {
      "text/html": [
       "<div>\n",
       "<style scoped>\n",
       "    .dataframe tbody tr th:only-of-type {\n",
       "        vertical-align: middle;\n",
       "    }\n",
       "\n",
       "    .dataframe tbody tr th {\n",
       "        vertical-align: top;\n",
       "    }\n",
       "\n",
       "    .dataframe thead th {\n",
       "        text-align: right;\n",
       "    }\n",
       "</style>\n",
       "<table border=\"1\" class=\"dataframe\">\n",
       "  <thead>\n",
       "    <tr style=\"text-align: right;\">\n",
       "      <th></th>\n",
       "      <th>Temparature</th>\n",
       "      <th>Humidity</th>\n",
       "      <th>Moisture</th>\n",
       "      <th>Soil Type</th>\n",
       "      <th>Crop Type</th>\n",
       "      <th>Nitrogen</th>\n",
       "      <th>Potassium</th>\n",
       "      <th>Phosphorous</th>\n",
       "      <th>Fertilizer Name</th>\n",
       "    </tr>\n",
       "  </thead>\n",
       "  <tbody>\n",
       "    <tr>\n",
       "      <th>0</th>\n",
       "      <td>26</td>\n",
       "      <td>52</td>\n",
       "      <td>38</td>\n",
       "      <td>Sandy</td>\n",
       "      <td>Maize</td>\n",
       "      <td>37</td>\n",
       "      <td>0</td>\n",
       "      <td>0</td>\n",
       "      <td>Urea</td>\n",
       "    </tr>\n",
       "    <tr>\n",
       "      <th>1</th>\n",
       "      <td>29</td>\n",
       "      <td>52</td>\n",
       "      <td>45</td>\n",
       "      <td>Loamy</td>\n",
       "      <td>Sugarcane</td>\n",
       "      <td>12</td>\n",
       "      <td>0</td>\n",
       "      <td>36</td>\n",
       "      <td>DAP</td>\n",
       "    </tr>\n",
       "    <tr>\n",
       "      <th>2</th>\n",
       "      <td>34</td>\n",
       "      <td>65</td>\n",
       "      <td>62</td>\n",
       "      <td>Black</td>\n",
       "      <td>Cotton</td>\n",
       "      <td>7</td>\n",
       "      <td>9</td>\n",
       "      <td>30</td>\n",
       "      <td>14-35-14</td>\n",
       "    </tr>\n",
       "    <tr>\n",
       "      <th>3</th>\n",
       "      <td>32</td>\n",
       "      <td>62</td>\n",
       "      <td>34</td>\n",
       "      <td>Red</td>\n",
       "      <td>Tobacco</td>\n",
       "      <td>22</td>\n",
       "      <td>0</td>\n",
       "      <td>20</td>\n",
       "      <td>28-28</td>\n",
       "    </tr>\n",
       "    <tr>\n",
       "      <th>4</th>\n",
       "      <td>28</td>\n",
       "      <td>54</td>\n",
       "      <td>46</td>\n",
       "      <td>Clayey</td>\n",
       "      <td>Paddy</td>\n",
       "      <td>35</td>\n",
       "      <td>0</td>\n",
       "      <td>0</td>\n",
       "      <td>Urea</td>\n",
       "    </tr>\n",
       "    <tr>\n",
       "      <th>...</th>\n",
       "      <td>...</td>\n",
       "      <td>...</td>\n",
       "      <td>...</td>\n",
       "      <td>...</td>\n",
       "      <td>...</td>\n",
       "      <td>...</td>\n",
       "      <td>...</td>\n",
       "      <td>...</td>\n",
       "      <td>...</td>\n",
       "    </tr>\n",
       "    <tr>\n",
       "      <th>200</th>\n",
       "      <td>29</td>\n",
       "      <td>58</td>\n",
       "      <td>34</td>\n",
       "      <td>Sandy</td>\n",
       "      <td>Millets</td>\n",
       "      <td>15</td>\n",
       "      <td>0</td>\n",
       "      <td>37</td>\n",
       "      <td>DAP</td>\n",
       "    </tr>\n",
       "    <tr>\n",
       "      <th>201</th>\n",
       "      <td>27</td>\n",
       "      <td>54</td>\n",
       "      <td>30</td>\n",
       "      <td>Clayey</td>\n",
       "      <td>Pulses</td>\n",
       "      <td>13</td>\n",
       "      <td>0</td>\n",
       "      <td>13</td>\n",
       "      <td>20-20</td>\n",
       "    </tr>\n",
       "    <tr>\n",
       "      <th>202</th>\n",
       "      <td>30</td>\n",
       "      <td>60</td>\n",
       "      <td>58</td>\n",
       "      <td>Loamy</td>\n",
       "      <td>Sugarcane</td>\n",
       "      <td>10</td>\n",
       "      <td>7</td>\n",
       "      <td>32</td>\n",
       "      <td>14-35-14</td>\n",
       "    </tr>\n",
       "    <tr>\n",
       "      <th>203</th>\n",
       "      <td>32</td>\n",
       "      <td>62</td>\n",
       "      <td>34</td>\n",
       "      <td>Red</td>\n",
       "      <td>Tobacco</td>\n",
       "      <td>22</td>\n",
       "      <td>0</td>\n",
       "      <td>24</td>\n",
       "      <td>28-28</td>\n",
       "    </tr>\n",
       "    <tr>\n",
       "      <th>204</th>\n",
       "      <td>34</td>\n",
       "      <td>65</td>\n",
       "      <td>60</td>\n",
       "      <td>Black</td>\n",
       "      <td>Sugarcane</td>\n",
       "      <td>35</td>\n",
       "      <td>0</td>\n",
       "      <td>0</td>\n",
       "      <td>Urea</td>\n",
       "    </tr>\n",
       "  </tbody>\n",
       "</table>\n",
       "<p>205 rows × 9 columns</p>\n",
       "</div>"
      ],
      "text/plain": [
       "     Temparature  Humidity   Moisture Soil Type  Crop Type  Nitrogen  \\\n",
       "0             26         52        38     Sandy      Maize        37   \n",
       "1             29         52        45     Loamy  Sugarcane        12   \n",
       "2             34         65        62     Black     Cotton         7   \n",
       "3             32         62        34       Red    Tobacco        22   \n",
       "4             28         54        46    Clayey      Paddy        35   \n",
       "..           ...        ...       ...       ...        ...       ...   \n",
       "200           29         58        34     Sandy    Millets        15   \n",
       "201           27         54        30    Clayey     Pulses        13   \n",
       "202           30         60        58     Loamy  Sugarcane        10   \n",
       "203           32         62        34       Red    Tobacco        22   \n",
       "204           34         65        60     Black  Sugarcane        35   \n",
       "\n",
       "     Potassium  Phosphorous Fertilizer Name  \n",
       "0            0            0            Urea  \n",
       "1            0           36             DAP  \n",
       "2            9           30        14-35-14  \n",
       "3            0           20           28-28  \n",
       "4            0            0            Urea  \n",
       "..         ...          ...             ...  \n",
       "200          0           37             DAP  \n",
       "201          0           13           20-20  \n",
       "202          7           32        14-35-14  \n",
       "203          0           24           28-28  \n",
       "204          0            0            Urea  \n",
       "\n",
       "[205 rows x 9 columns]"
      ]
     },
     "execution_count": 3,
     "metadata": {},
     "output_type": "execute_result"
    }
   ],
   "source": [
    "df"
   ]
  },
  {
   "cell_type": "code",
   "execution_count": 4,
   "id": "becbf906-d76b-44db-8d8f-8ec081bf004b",
   "metadata": {
    "executionInfo": {
     "elapsed": 9,
     "status": "ok",
     "timestamp": 1731395241677,
     "user": {
      "displayName": "sophia Makandar",
      "userId": "03923072930595316242"
     },
     "user_tz": -330
    },
    "id": "becbf906-d76b-44db-8d8f-8ec081bf004b"
   },
   "outputs": [],
   "source": [
    "\n",
    "# Step 2: Clean column names (remove leading/trailing spaces)\n",
    "df.columns = df.columns.str.strip()"
   ]
  },
  {
   "cell_type": "code",
   "execution_count": 5,
   "id": "442b79bd-8f90-4212-b62a-a8fbd31c202a",
   "metadata": {
    "colab": {
     "base_uri": "https://localhost:8080/"
    },
    "executionInfo": {
     "elapsed": 9,
     "status": "ok",
     "timestamp": 1731395241677,
     "user": {
      "displayName": "sophia Makandar",
      "userId": "03923072930595316242"
     },
     "user_tz": -330
    },
    "id": "442b79bd-8f90-4212-b62a-a8fbd31c202a",
    "outputId": "d9dbb394-6f21-4295-ae9e-493037d96cb9"
   },
   "outputs": [
    {
     "name": "stdout",
     "output_type": "stream",
     "text": [
      "   Temparature  Humidity  Moisture Soil Type  Crop Type  Nitrogen  Potassium  \\\n",
      "0           26        52        38     Sandy      Maize        37          0   \n",
      "1           29        52        45     Loamy  Sugarcane        12          0   \n",
      "2           34        65        62     Black     Cotton         7          9   \n",
      "3           32        62        34       Red    Tobacco        22          0   \n",
      "4           28        54        46    Clayey      Paddy        35          0   \n",
      "\n",
      "   Phosphorous Fertilizer Name  \n",
      "0            0            Urea  \n",
      "1           36             DAP  \n",
      "2           30        14-35-14  \n",
      "3           20           28-28  \n",
      "4            0            Urea  \n"
     ]
    }
   ],
   "source": [
    "# Step 3: Check the first few rows of the dataset\n",
    "print(df.head())\n"
   ]
  },
  {
   "cell_type": "code",
   "execution_count": 6,
   "id": "ceb678ee-7142-4d77-a2ab-94e77b738cf9",
   "metadata": {
    "colab": {
     "base_uri": "https://localhost:8080/"
    },
    "executionInfo": {
     "elapsed": 7,
     "status": "ok",
     "timestamp": 1731395241677,
     "user": {
      "displayName": "sophia Makandar",
      "userId": "03923072930595316242"
     },
     "user_tz": -330
    },
    "id": "ceb678ee-7142-4d77-a2ab-94e77b738cf9",
    "outputId": "fb45fe4f-235a-4b11-b529-190c70d0f282"
   },
   "outputs": [
    {
     "name": "stdout",
     "output_type": "stream",
     "text": [
      "Temparature        0\n",
      "Humidity           0\n",
      "Moisture           0\n",
      "Soil Type          0\n",
      "Crop Type          0\n",
      "Nitrogen           0\n",
      "Potassium          0\n",
      "Phosphorous        0\n",
      "Fertilizer Name    0\n",
      "dtype: int64\n"
     ]
    }
   ],
   "source": [
    "# Step 4: Handle missing values (None in your case as you already checked isnull())\n",
    "print(df.isnull().sum())"
   ]
  },
  {
   "cell_type": "code",
   "execution_count": 7,
   "id": "117701bb-de01-4d3c-9d05-2be02ac46c48",
   "metadata": {
    "executionInfo": {
     "elapsed": 7,
     "status": "ok",
     "timestamp": 1731395241677,
     "user": {
      "displayName": "sophia Makandar",
      "userId": "03923072930595316242"
     },
     "user_tz": -330
    },
    "id": "117701bb-de01-4d3c-9d05-2be02ac46c48"
   },
   "outputs": [],
   "source": [
    "# Step 5: Define features (X) and target variable (y) - Crop Type\n",
    "X = df[['Temparature', 'Humidity', 'Moisture', 'Soil Type', 'Nitrogen', 'Potassium', 'Phosphorous']].copy()\n",
    "y = df['Crop Type'].copy()"
   ]
  },
  {
   "cell_type": "code",
   "execution_count": 8,
   "id": "grL4YF6yMqMf",
   "metadata": {
    "colab": {
     "base_uri": "https://localhost:8080/"
    },
    "executionInfo": {
     "elapsed": 6,
     "status": "ok",
     "timestamp": 1731395241677,
     "user": {
      "displayName": "sophia Makandar",
      "userId": "03923072930595316242"
     },
     "user_tz": -330
    },
    "id": "grL4YF6yMqMf",
    "outputId": "caf5c1eb-990d-4e9c-afa6-c888647ea69e"
   },
   "outputs": [
    {
     "data": {
      "text/plain": [
       "array(['Sandy', 'Loamy', 'Black', 'Red', 'Clayey'], dtype=object)"
      ]
     },
     "execution_count": 8,
     "metadata": {},
     "output_type": "execute_result"
    }
   ],
   "source": [
    "X['Soil Type'].unique()"
   ]
  },
  {
   "cell_type": "code",
   "execution_count": 9,
   "id": "e6d29011-b370-4bfc-8c57-823c7f582964",
   "metadata": {
    "executionInfo": {
     "elapsed": 6,
     "status": "ok",
     "timestamp": 1731395241677,
     "user": {
      "displayName": "sophia Makandar",
      "userId": "03923072930595316242"
     },
     "user_tz": -330
    },
    "id": "e6d29011-b370-4bfc-8c57-823c7f582964"
   },
   "outputs": [],
   "source": [
    "\n",
    "# Step 6: Label Encoding for categorical variables (Soil Type and Crop Type)\n",
    "encode_soil = LabelEncoder()\n",
    "X['Soil Type'] = encode_soil.fit_transform(X['Soil Type'])"
   ]
  },
  {
   "cell_type": "code",
   "execution_count": null,
   "id": "poTBLZdXMf9Y",
   "metadata": {
    "executionInfo": {
     "elapsed": 6,
     "status": "ok",
     "timestamp": 1731395241677,
     "user": {
      "displayName": "sophia Makandar",
      "userId": "03923072930595316242"
     },
     "user_tz": -330
    },
    "id": "poTBLZdXMf9Y"
   },
   "outputs": [],
   "source": []
  },
  {
   "cell_type": "code",
   "execution_count": 10,
   "id": "38dc4cfa-fe68-4564-b64a-0c3b1a1cecca",
   "metadata": {
    "executionInfo": {
     "elapsed": 5,
     "status": "ok",
     "timestamp": 1731395241677,
     "user": {
      "displayName": "sophia Makandar",
      "userId": "03923072930595316242"
     },
     "user_tz": -330
    },
    "id": "38dc4cfa-fe68-4564-b64a-0c3b1a1cecca"
   },
   "outputs": [],
   "source": [
    "encode_crop = LabelEncoder()\n",
    "y = encode_crop.fit_transform(y)"
   ]
  },
  {
   "cell_type": "code",
   "execution_count": 11,
   "id": "38a01085-d20c-45bc-8945-ab87cfe96071",
   "metadata": {
    "executionInfo": {
     "elapsed": 5,
     "status": "ok",
     "timestamp": 1731395241677,
     "user": {
      "displayName": "sophia Makandar",
      "userId": "03923072930595316242"
     },
     "user_tz": -330
    },
    "id": "38a01085-d20c-45bc-8945-ab87cfe96071"
   },
   "outputs": [],
   "source": [
    "\n",
    "# Step 7: Split the data into training and testing sets\n",
    "X_train, X_test, y_train, y_test = train_test_split(X, y, test_size=0.2, random_state=42)\n"
   ]
  },
  {
   "cell_type": "code",
   "execution_count": 12,
   "id": "1f8016fe-797f-4759-a526-818d836d9090",
   "metadata": {
    "colab": {
     "base_uri": "https://localhost:8080/",
     "height": 363
    },
    "executionInfo": {
     "elapsed": 5,
     "status": "ok",
     "timestamp": 1731395241677,
     "user": {
      "displayName": "sophia Makandar",
      "userId": "03923072930595316242"
     },
     "user_tz": -330
    },
    "id": "1f8016fe-797f-4759-a526-818d836d9090",
    "outputId": "73e6a244-404e-4f06-9292-58261fef6284"
   },
   "outputs": [
    {
     "data": {
      "text/html": [
       "<div>\n",
       "<style scoped>\n",
       "    .dataframe tbody tr th:only-of-type {\n",
       "        vertical-align: middle;\n",
       "    }\n",
       "\n",
       "    .dataframe tbody tr th {\n",
       "        vertical-align: top;\n",
       "    }\n",
       "\n",
       "    .dataframe thead th {\n",
       "        text-align: right;\n",
       "    }\n",
       "</style>\n",
       "<table border=\"1\" class=\"dataframe\">\n",
       "  <thead>\n",
       "    <tr style=\"text-align: right;\">\n",
       "      <th></th>\n",
       "      <th>Temparature</th>\n",
       "      <th>Humidity</th>\n",
       "      <th>Moisture</th>\n",
       "      <th>Soil Type</th>\n",
       "      <th>Crop Type</th>\n",
       "      <th>Nitrogen</th>\n",
       "      <th>Potassium</th>\n",
       "      <th>Phosphorous</th>\n",
       "      <th>Fertilizer Name</th>\n",
       "    </tr>\n",
       "  </thead>\n",
       "  <tbody>\n",
       "    <tr>\n",
       "      <th>0</th>\n",
       "      <td>26</td>\n",
       "      <td>52</td>\n",
       "      <td>38</td>\n",
       "      <td>Sandy</td>\n",
       "      <td>Maize</td>\n",
       "      <td>37</td>\n",
       "      <td>0</td>\n",
       "      <td>0</td>\n",
       "      <td>Urea</td>\n",
       "    </tr>\n",
       "    <tr>\n",
       "      <th>1</th>\n",
       "      <td>29</td>\n",
       "      <td>52</td>\n",
       "      <td>45</td>\n",
       "      <td>Loamy</td>\n",
       "      <td>Sugarcane</td>\n",
       "      <td>12</td>\n",
       "      <td>0</td>\n",
       "      <td>36</td>\n",
       "      <td>DAP</td>\n",
       "    </tr>\n",
       "    <tr>\n",
       "      <th>2</th>\n",
       "      <td>34</td>\n",
       "      <td>65</td>\n",
       "      <td>62</td>\n",
       "      <td>Black</td>\n",
       "      <td>Cotton</td>\n",
       "      <td>7</td>\n",
       "      <td>9</td>\n",
       "      <td>30</td>\n",
       "      <td>14-35-14</td>\n",
       "    </tr>\n",
       "    <tr>\n",
       "      <th>3</th>\n",
       "      <td>32</td>\n",
       "      <td>62</td>\n",
       "      <td>34</td>\n",
       "      <td>Red</td>\n",
       "      <td>Tobacco</td>\n",
       "      <td>22</td>\n",
       "      <td>0</td>\n",
       "      <td>20</td>\n",
       "      <td>28-28</td>\n",
       "    </tr>\n",
       "    <tr>\n",
       "      <th>4</th>\n",
       "      <td>28</td>\n",
       "      <td>54</td>\n",
       "      <td>46</td>\n",
       "      <td>Clayey</td>\n",
       "      <td>Paddy</td>\n",
       "      <td>35</td>\n",
       "      <td>0</td>\n",
       "      <td>0</td>\n",
       "      <td>Urea</td>\n",
       "    </tr>\n",
       "    <tr>\n",
       "      <th>5</th>\n",
       "      <td>26</td>\n",
       "      <td>52</td>\n",
       "      <td>35</td>\n",
       "      <td>Sandy</td>\n",
       "      <td>Barley</td>\n",
       "      <td>12</td>\n",
       "      <td>10</td>\n",
       "      <td>13</td>\n",
       "      <td>17-17-17</td>\n",
       "    </tr>\n",
       "    <tr>\n",
       "      <th>6</th>\n",
       "      <td>25</td>\n",
       "      <td>50</td>\n",
       "      <td>64</td>\n",
       "      <td>Red</td>\n",
       "      <td>Cotton</td>\n",
       "      <td>9</td>\n",
       "      <td>0</td>\n",
       "      <td>10</td>\n",
       "      <td>20-20</td>\n",
       "    </tr>\n",
       "    <tr>\n",
       "      <th>7</th>\n",
       "      <td>33</td>\n",
       "      <td>64</td>\n",
       "      <td>50</td>\n",
       "      <td>Loamy</td>\n",
       "      <td>Wheat</td>\n",
       "      <td>41</td>\n",
       "      <td>0</td>\n",
       "      <td>0</td>\n",
       "      <td>Urea</td>\n",
       "    </tr>\n",
       "    <tr>\n",
       "      <th>8</th>\n",
       "      <td>30</td>\n",
       "      <td>60</td>\n",
       "      <td>42</td>\n",
       "      <td>Sandy</td>\n",
       "      <td>Millets</td>\n",
       "      <td>21</td>\n",
       "      <td>0</td>\n",
       "      <td>18</td>\n",
       "      <td>28-28</td>\n",
       "    </tr>\n",
       "    <tr>\n",
       "      <th>9</th>\n",
       "      <td>29</td>\n",
       "      <td>58</td>\n",
       "      <td>33</td>\n",
       "      <td>Black</td>\n",
       "      <td>Oil seeds</td>\n",
       "      <td>9</td>\n",
       "      <td>7</td>\n",
       "      <td>30</td>\n",
       "      <td>14-35-14</td>\n",
       "    </tr>\n",
       "  </tbody>\n",
       "</table>\n",
       "</div>"
      ],
      "text/plain": [
       "   Temparature  Humidity  Moisture Soil Type  Crop Type  Nitrogen  Potassium  \\\n",
       "0           26        52        38     Sandy      Maize        37          0   \n",
       "1           29        52        45     Loamy  Sugarcane        12          0   \n",
       "2           34        65        62     Black     Cotton         7          9   \n",
       "3           32        62        34       Red    Tobacco        22          0   \n",
       "4           28        54        46    Clayey      Paddy        35          0   \n",
       "5           26        52        35     Sandy     Barley        12         10   \n",
       "6           25        50        64       Red     Cotton         9          0   \n",
       "7           33        64        50     Loamy      Wheat        41          0   \n",
       "8           30        60        42     Sandy    Millets        21          0   \n",
       "9           29        58        33     Black  Oil seeds         9          7   \n",
       "\n",
       "   Phosphorous Fertilizer Name  \n",
       "0            0            Urea  \n",
       "1           36             DAP  \n",
       "2           30        14-35-14  \n",
       "3           20           28-28  \n",
       "4            0            Urea  \n",
       "5           13        17-17-17  \n",
       "6           10           20-20  \n",
       "7            0            Urea  \n",
       "8           18           28-28  \n",
       "9           30        14-35-14  "
      ]
     },
     "execution_count": 12,
     "metadata": {},
     "output_type": "execute_result"
    }
   ],
   "source": [
    "df.head(10)"
   ]
  },
  {
   "cell_type": "code",
   "execution_count": 13,
   "id": "a8e55b73-ebbc-4920-919d-e58c071a4832",
   "metadata": {
    "colab": {
     "base_uri": "https://localhost:8080/",
     "height": 1000
    },
    "executionInfo": {
     "elapsed": 5,
     "status": "ok",
     "timestamp": 1731395241677,
     "user": {
      "displayName": "sophia Makandar",
      "userId": "03923072930595316242"
     },
     "user_tz": -330
    },
    "id": "a8e55b73-ebbc-4920-919d-e58c071a4832",
    "outputId": "3b2c8f26-7560-4361-f085-b12e81125c76"
   },
   "outputs": [
    {
     "data": {
      "text/html": [
       "<div>\n",
       "<style scoped>\n",
       "    .dataframe tbody tr th:only-of-type {\n",
       "        vertical-align: middle;\n",
       "    }\n",
       "\n",
       "    .dataframe tbody tr th {\n",
       "        vertical-align: top;\n",
       "    }\n",
       "\n",
       "    .dataframe thead th {\n",
       "        text-align: right;\n",
       "    }\n",
       "</style>\n",
       "<table border=\"1\" class=\"dataframe\">\n",
       "  <thead>\n",
       "    <tr style=\"text-align: right;\">\n",
       "      <th></th>\n",
       "      <th>Temparature</th>\n",
       "      <th>Humidity</th>\n",
       "      <th>Moisture</th>\n",
       "      <th>Soil Type</th>\n",
       "      <th>Nitrogen</th>\n",
       "      <th>Potassium</th>\n",
       "      <th>Phosphorous</th>\n",
       "    </tr>\n",
       "  </thead>\n",
       "  <tbody>\n",
       "    <tr>\n",
       "      <th>15</th>\n",
       "      <td>31</td>\n",
       "      <td>62</td>\n",
       "      <td>49</td>\n",
       "      <td>0</td>\n",
       "      <td>10</td>\n",
       "      <td>13</td>\n",
       "      <td>14</td>\n",
       "    </tr>\n",
       "    <tr>\n",
       "      <th>9</th>\n",
       "      <td>29</td>\n",
       "      <td>58</td>\n",
       "      <td>33</td>\n",
       "      <td>0</td>\n",
       "      <td>9</td>\n",
       "      <td>7</td>\n",
       "      <td>30</td>\n",
       "    </tr>\n",
       "    <tr>\n",
       "      <th>100</th>\n",
       "      <td>26</td>\n",
       "      <td>52</td>\n",
       "      <td>48</td>\n",
       "      <td>2</td>\n",
       "      <td>23</td>\n",
       "      <td>0</td>\n",
       "      <td>19</td>\n",
       "    </tr>\n",
       "    <tr>\n",
       "      <th>132</th>\n",
       "      <td>34</td>\n",
       "      <td>65</td>\n",
       "      <td>48</td>\n",
       "      <td>2</td>\n",
       "      <td>23</td>\n",
       "      <td>0</td>\n",
       "      <td>19</td>\n",
       "    </tr>\n",
       "    <tr>\n",
       "      <th>68</th>\n",
       "      <td>25</td>\n",
       "      <td>50</td>\n",
       "      <td>40</td>\n",
       "      <td>1</td>\n",
       "      <td>6</td>\n",
       "      <td>19</td>\n",
       "      <td>16</td>\n",
       "    </tr>\n",
       "    <tr>\n",
       "      <th>95</th>\n",
       "      <td>30</td>\n",
       "      <td>60</td>\n",
       "      <td>27</td>\n",
       "      <td>3</td>\n",
       "      <td>4</td>\n",
       "      <td>17</td>\n",
       "      <td>17</td>\n",
       "    </tr>\n",
       "    <tr>\n",
       "      <th>159</th>\n",
       "      <td>26</td>\n",
       "      <td>52</td>\n",
       "      <td>35</td>\n",
       "      <td>4</td>\n",
       "      <td>12</td>\n",
       "      <td>10</td>\n",
       "      <td>13</td>\n",
       "    </tr>\n",
       "    <tr>\n",
       "      <th>162</th>\n",
       "      <td>30</td>\n",
       "      <td>60</td>\n",
       "      <td>42</td>\n",
       "      <td>4</td>\n",
       "      <td>21</td>\n",
       "      <td>0</td>\n",
       "      <td>18</td>\n",
       "    </tr>\n",
       "    <tr>\n",
       "      <th>147</th>\n",
       "      <td>29</td>\n",
       "      <td>58</td>\n",
       "      <td>52</td>\n",
       "      <td>2</td>\n",
       "      <td>13</td>\n",
       "      <td>0</td>\n",
       "      <td>36</td>\n",
       "    </tr>\n",
       "    <tr>\n",
       "      <th>182</th>\n",
       "      <td>25</td>\n",
       "      <td>50</td>\n",
       "      <td>56</td>\n",
       "      <td>2</td>\n",
       "      <td>11</td>\n",
       "      <td>13</td>\n",
       "      <td>15</td>\n",
       "    </tr>\n",
       "    <tr>\n",
       "      <th>191</th>\n",
       "      <td>38</td>\n",
       "      <td>72</td>\n",
       "      <td>51</td>\n",
       "      <td>2</td>\n",
       "      <td>39</td>\n",
       "      <td>0</td>\n",
       "      <td>0</td>\n",
       "    </tr>\n",
       "    <tr>\n",
       "      <th>164</th>\n",
       "      <td>27</td>\n",
       "      <td>54</td>\n",
       "      <td>28</td>\n",
       "      <td>1</td>\n",
       "      <td>13</td>\n",
       "      <td>0</td>\n",
       "      <td>40</td>\n",
       "    </tr>\n",
       "    <tr>\n",
       "      <th>65</th>\n",
       "      <td>36</td>\n",
       "      <td>68</td>\n",
       "      <td>62</td>\n",
       "      <td>3</td>\n",
       "      <td>15</td>\n",
       "      <td>0</td>\n",
       "      <td>40</td>\n",
       "    </tr>\n",
       "    <tr>\n",
       "      <th>175</th>\n",
       "      <td>27</td>\n",
       "      <td>54</td>\n",
       "      <td>30</td>\n",
       "      <td>1</td>\n",
       "      <td>13</td>\n",
       "      <td>0</td>\n",
       "      <td>13</td>\n",
       "    </tr>\n",
       "    <tr>\n",
       "      <th>73</th>\n",
       "      <td>27</td>\n",
       "      <td>53</td>\n",
       "      <td>34</td>\n",
       "      <td>0</td>\n",
       "      <td>42</td>\n",
       "      <td>0</td>\n",
       "      <td>0</td>\n",
       "    </tr>\n",
       "    <tr>\n",
       "      <th>152</th>\n",
       "      <td>33</td>\n",
       "      <td>64</td>\n",
       "      <td>39</td>\n",
       "      <td>1</td>\n",
       "      <td>13</td>\n",
       "      <td>0</td>\n",
       "      <td>10</td>\n",
       "    </tr>\n",
       "    <tr>\n",
       "      <th>18</th>\n",
       "      <td>28</td>\n",
       "      <td>54</td>\n",
       "      <td>65</td>\n",
       "      <td>0</td>\n",
       "      <td>39</td>\n",
       "      <td>0</td>\n",
       "      <td>0</td>\n",
       "    </tr>\n",
       "    <tr>\n",
       "      <th>82</th>\n",
       "      <td>29</td>\n",
       "      <td>58</td>\n",
       "      <td>65</td>\n",
       "      <td>0</td>\n",
       "      <td>14</td>\n",
       "      <td>0</td>\n",
       "      <td>35</td>\n",
       "    </tr>\n",
       "    <tr>\n",
       "      <th>86</th>\n",
       "      <td>29</td>\n",
       "      <td>58</td>\n",
       "      <td>30</td>\n",
       "      <td>3</td>\n",
       "      <td>13</td>\n",
       "      <td>17</td>\n",
       "      <td>16</td>\n",
       "    </tr>\n",
       "    <tr>\n",
       "      <th>143</th>\n",
       "      <td>31</td>\n",
       "      <td>62</td>\n",
       "      <td>49</td>\n",
       "      <td>0</td>\n",
       "      <td>10</td>\n",
       "      <td>13</td>\n",
       "      <td>14</td>\n",
       "    </tr>\n",
       "    <tr>\n",
       "      <th>60</th>\n",
       "      <td>28</td>\n",
       "      <td>54</td>\n",
       "      <td>41</td>\n",
       "      <td>1</td>\n",
       "      <td>36</td>\n",
       "      <td>0</td>\n",
       "      <td>0</td>\n",
       "    </tr>\n",
       "    <tr>\n",
       "      <th>101</th>\n",
       "      <td>28</td>\n",
       "      <td>54</td>\n",
       "      <td>35</td>\n",
       "      <td>0</td>\n",
       "      <td>41</td>\n",
       "      <td>0</td>\n",
       "      <td>0</td>\n",
       "    </tr>\n",
       "    <tr>\n",
       "      <th>98</th>\n",
       "      <td>29</td>\n",
       "      <td>58</td>\n",
       "      <td>57</td>\n",
       "      <td>0</td>\n",
       "      <td>12</td>\n",
       "      <td>0</td>\n",
       "      <td>10</td>\n",
       "    </tr>\n",
       "    <tr>\n",
       "      <th>30</th>\n",
       "      <td>29</td>\n",
       "      <td>58</td>\n",
       "      <td>40</td>\n",
       "      <td>3</td>\n",
       "      <td>24</td>\n",
       "      <td>0</td>\n",
       "      <td>23</td>\n",
       "    </tr>\n",
       "    <tr>\n",
       "      <th>25</th>\n",
       "      <td>26</td>\n",
       "      <td>52</td>\n",
       "      <td>44</td>\n",
       "      <td>4</td>\n",
       "      <td>23</td>\n",
       "      <td>0</td>\n",
       "      <td>20</td>\n",
       "    </tr>\n",
       "    <tr>\n",
       "      <th>16</th>\n",
       "      <td>33</td>\n",
       "      <td>64</td>\n",
       "      <td>34</td>\n",
       "      <td>1</td>\n",
       "      <td>38</td>\n",
       "      <td>0</td>\n",
       "      <td>0</td>\n",
       "    </tr>\n",
       "    <tr>\n",
       "      <th>168</th>\n",
       "      <td>26</td>\n",
       "      <td>52</td>\n",
       "      <td>31</td>\n",
       "      <td>3</td>\n",
       "      <td>14</td>\n",
       "      <td>0</td>\n",
       "      <td>41</td>\n",
       "    </tr>\n",
       "    <tr>\n",
       "      <th>195</th>\n",
       "      <td>26</td>\n",
       "      <td>52</td>\n",
       "      <td>48</td>\n",
       "      <td>2</td>\n",
       "      <td>23</td>\n",
       "      <td>0</td>\n",
       "      <td>19</td>\n",
       "    </tr>\n",
       "    <tr>\n",
       "      <th>97</th>\n",
       "      <td>36</td>\n",
       "      <td>60</td>\n",
       "      <td>43</td>\n",
       "      <td>4</td>\n",
       "      <td>15</td>\n",
       "      <td>0</td>\n",
       "      <td>41</td>\n",
       "    </tr>\n",
       "    <tr>\n",
       "      <th>194</th>\n",
       "      <td>36</td>\n",
       "      <td>68</td>\n",
       "      <td>38</td>\n",
       "      <td>4</td>\n",
       "      <td>7</td>\n",
       "      <td>9</td>\n",
       "      <td>30</td>\n",
       "    </tr>\n",
       "    <tr>\n",
       "      <th>67</th>\n",
       "      <td>29</td>\n",
       "      <td>58</td>\n",
       "      <td>55</td>\n",
       "      <td>2</td>\n",
       "      <td>8</td>\n",
       "      <td>8</td>\n",
       "      <td>33</td>\n",
       "    </tr>\n",
       "    <tr>\n",
       "      <th>120</th>\n",
       "      <td>28</td>\n",
       "      <td>54</td>\n",
       "      <td>41</td>\n",
       "      <td>1</td>\n",
       "      <td>36</td>\n",
       "      <td>0</td>\n",
       "      <td>0</td>\n",
       "    </tr>\n",
       "    <tr>\n",
       "      <th>154</th>\n",
       "      <td>26</td>\n",
       "      <td>52</td>\n",
       "      <td>38</td>\n",
       "      <td>4</td>\n",
       "      <td>37</td>\n",
       "      <td>0</td>\n",
       "      <td>0</td>\n",
       "    </tr>\n",
       "    <tr>\n",
       "      <th>202</th>\n",
       "      <td>30</td>\n",
       "      <td>60</td>\n",
       "      <td>58</td>\n",
       "      <td>2</td>\n",
       "      <td>10</td>\n",
       "      <td>7</td>\n",
       "      <td>32</td>\n",
       "    </tr>\n",
       "    <tr>\n",
       "      <th>79</th>\n",
       "      <td>34</td>\n",
       "      <td>65</td>\n",
       "      <td>63</td>\n",
       "      <td>3</td>\n",
       "      <td>14</td>\n",
       "      <td>0</td>\n",
       "      <td>38</td>\n",
       "    </tr>\n",
       "    <tr>\n",
       "      <th>69</th>\n",
       "      <td>30</td>\n",
       "      <td>60</td>\n",
       "      <td>38</td>\n",
       "      <td>4</td>\n",
       "      <td>10</td>\n",
       "      <td>0</td>\n",
       "      <td>14</td>\n",
       "    </tr>\n",
       "    <tr>\n",
       "      <th>145</th>\n",
       "      <td>25</td>\n",
       "      <td>50</td>\n",
       "      <td>39</td>\n",
       "      <td>4</td>\n",
       "      <td>21</td>\n",
       "      <td>0</td>\n",
       "      <td>19</td>\n",
       "    </tr>\n",
       "    <tr>\n",
       "      <th>55</th>\n",
       "      <td>27</td>\n",
       "      <td>53</td>\n",
       "      <td>43</td>\n",
       "      <td>0</td>\n",
       "      <td>23</td>\n",
       "      <td>0</td>\n",
       "      <td>24</td>\n",
       "    </tr>\n",
       "    <tr>\n",
       "      <th>45</th>\n",
       "      <td>38</td>\n",
       "      <td>70</td>\n",
       "      <td>48</td>\n",
       "      <td>2</td>\n",
       "      <td>8</td>\n",
       "      <td>8</td>\n",
       "      <td>28</td>\n",
       "    </tr>\n",
       "    <tr>\n",
       "      <th>84</th>\n",
       "      <td>31</td>\n",
       "      <td>62</td>\n",
       "      <td>44</td>\n",
       "      <td>4</td>\n",
       "      <td>21</td>\n",
       "      <td>0</td>\n",
       "      <td>28</td>\n",
       "    </tr>\n",
       "    <tr>\n",
       "      <th>146</th>\n",
       "      <td>28</td>\n",
       "      <td>54</td>\n",
       "      <td>65</td>\n",
       "      <td>0</td>\n",
       "      <td>39</td>\n",
       "      <td>0</td>\n",
       "      <td>0</td>\n",
       "    </tr>\n",
       "  </tbody>\n",
       "</table>\n",
       "</div>"
      ],
      "text/plain": [
       "     Temparature  Humidity  Moisture  Soil Type  Nitrogen  Potassium  \\\n",
       "15            31        62        49          0        10         13   \n",
       "9             29        58        33          0         9          7   \n",
       "100           26        52        48          2        23          0   \n",
       "132           34        65        48          2        23          0   \n",
       "68            25        50        40          1         6         19   \n",
       "95            30        60        27          3         4         17   \n",
       "159           26        52        35          4        12         10   \n",
       "162           30        60        42          4        21          0   \n",
       "147           29        58        52          2        13          0   \n",
       "182           25        50        56          2        11         13   \n",
       "191           38        72        51          2        39          0   \n",
       "164           27        54        28          1        13          0   \n",
       "65            36        68        62          3        15          0   \n",
       "175           27        54        30          1        13          0   \n",
       "73            27        53        34          0        42          0   \n",
       "152           33        64        39          1        13          0   \n",
       "18            28        54        65          0        39          0   \n",
       "82            29        58        65          0        14          0   \n",
       "86            29        58        30          3        13         17   \n",
       "143           31        62        49          0        10         13   \n",
       "60            28        54        41          1        36          0   \n",
       "101           28        54        35          0        41          0   \n",
       "98            29        58        57          0        12          0   \n",
       "30            29        58        40          3        24          0   \n",
       "25            26        52        44          4        23          0   \n",
       "16            33        64        34          1        38          0   \n",
       "168           26        52        31          3        14          0   \n",
       "195           26        52        48          2        23          0   \n",
       "97            36        60        43          4        15          0   \n",
       "194           36        68        38          4         7          9   \n",
       "67            29        58        55          2         8          8   \n",
       "120           28        54        41          1        36          0   \n",
       "154           26        52        38          4        37          0   \n",
       "202           30        60        58          2        10          7   \n",
       "79            34        65        63          3        14          0   \n",
       "69            30        60        38          4        10          0   \n",
       "145           25        50        39          4        21          0   \n",
       "55            27        53        43          0        23          0   \n",
       "45            38        70        48          2         8          8   \n",
       "84            31        62        44          4        21          0   \n",
       "146           28        54        65          0        39          0   \n",
       "\n",
       "     Phosphorous  \n",
       "15            14  \n",
       "9             30  \n",
       "100           19  \n",
       "132           19  \n",
       "68            16  \n",
       "95            17  \n",
       "159           13  \n",
       "162           18  \n",
       "147           36  \n",
       "182           15  \n",
       "191            0  \n",
       "164           40  \n",
       "65            40  \n",
       "175           13  \n",
       "73             0  \n",
       "152           10  \n",
       "18             0  \n",
       "82            35  \n",
       "86            16  \n",
       "143           14  \n",
       "60             0  \n",
       "101            0  \n",
       "98            10  \n",
       "30            23  \n",
       "25            20  \n",
       "16             0  \n",
       "168           41  \n",
       "195           19  \n",
       "97            41  \n",
       "194           30  \n",
       "67            33  \n",
       "120            0  \n",
       "154            0  \n",
       "202           32  \n",
       "79            38  \n",
       "69            14  \n",
       "145           19  \n",
       "55            24  \n",
       "45            28  \n",
       "84            28  \n",
       "146            0  "
      ]
     },
     "execution_count": 13,
     "metadata": {},
     "output_type": "execute_result"
    }
   ],
   "source": [
    "X_test"
   ]
  },
  {
   "cell_type": "code",
   "execution_count": null,
   "id": "e2fcd2d2-be17-417d-b42e-9e5b625ec176",
   "metadata": {
    "executionInfo": {
     "elapsed": 4,
     "status": "ok",
     "timestamp": 1731395241677,
     "user": {
      "displayName": "sophia Makandar",
      "userId": "03923072930595316242"
     },
     "user_tz": -330
    },
    "id": "e2fcd2d2-be17-417d-b42e-9e5b625ec176"
   },
   "outputs": [],
   "source": []
  },
  {
   "cell_type": "code",
   "execution_count": 14,
   "id": "b061d17a-d752-46e7-8ab6-bee75d8b3ce5",
   "metadata": {
    "executionInfo": {
     "elapsed": 4,
     "status": "ok",
     "timestamp": 1731395241677,
     "user": {
      "displayName": "sophia Makandar",
      "userId": "03923072930595316242"
     },
     "user_tz": -330
    },
    "id": "b061d17a-d752-46e7-8ab6-bee75d8b3ce5"
   },
   "outputs": [],
   "source": [
    "# Step 8: Feature scaling using StandardScaler\n",
    "scaler = StandardScaler()\n",
    "X_train = scaler.fit_transform(X_train)\n",
    "X_test = scaler.transform(X_test)"
   ]
  },
  {
   "cell_type": "code",
   "execution_count": 15,
   "id": "5b546db4-04bc-445c-b813-4a5f44004eef",
   "metadata": {
    "colab": {
     "base_uri": "https://localhost:8080/"
    },
    "executionInfo": {
     "elapsed": 4,
     "status": "ok",
     "timestamp": 1731395241677,
     "user": {
      "displayName": "sophia Makandar",
      "userId": "03923072930595316242"
     },
     "user_tz": -330
    },
    "id": "5b546db4-04bc-445c-b813-4a5f44004eef",
    "outputId": "cd687e0f-8068-4c5e-a896-f6916bedc488"
   },
   "outputs": [
    {
     "data": {
      "text/plain": [
       "array([[ 0.17901441,  0.45755314,  0.49831781, -1.47451468, -0.76813121,\n",
       "         1.78796817, -0.3422389 ],\n",
       "       [-0.3801925 , -0.21094321, -0.91376203, -1.47451468, -0.85722139,\n",
       "         0.69722999,  0.84094274],\n",
       "       [-1.21900287, -1.21368773,  0.41006282, -0.03937873,  0.39004117,\n",
       "        -0.57529788,  0.02750537],\n",
       "       [ 1.01782477,  0.9589254 ,  0.41006282, -0.03937873,  0.39004117,\n",
       "        -0.57529788,  0.02750537],\n",
       "       [-1.49860633, -1.5479359 , -0.2959771 , -0.75694671, -1.12449194,\n",
       "         2.87870634, -0.19434119],\n",
       "       [-0.10058905,  0.12330497, -1.44329197,  0.67818925, -1.30267231,\n",
       "         2.51512695, -0.12039234],\n",
       "       [-1.21900287, -1.21368773, -0.73725205,  1.39575722, -0.58995084,\n",
       "         1.24259908, -0.41618775],\n",
       "       [-0.10058905,  0.12330497, -0.11946712,  1.39575722,  0.2118608 ,\n",
       "        -0.57529788, -0.04644349],\n",
       "       [-0.3801925 , -0.21094321,  0.76308278, -0.03937873, -0.50086066,\n",
       "        -0.57529788,  1.28463586],\n",
       "       [-1.49860633, -1.5479359 ,  1.11610274, -0.03937873, -0.67904103,\n",
       "         1.78796817, -0.26829004],\n",
       "       [ 2.1362386 ,  2.12879401,  0.67482779, -0.03937873,  1.81548409,\n",
       "        -0.57529788, -1.37752283],\n",
       "       [-0.93939941, -0.87943956, -1.35503698, -0.75694671, -0.50086066,\n",
       "        -0.57529788,  1.58043127],\n",
       "       [ 1.57703169,  1.46029766,  1.64563268,  0.67818925, -0.3226803 ,\n",
       "        -0.57529788,  1.58043127],\n",
       "       [-0.93939941, -0.87943956, -1.178527  , -0.75694671, -0.50086066,\n",
       "        -0.57529788, -0.41618775],\n",
       "       [-0.93939941, -1.04656364, -0.82550704, -1.47451468,  2.08275464,\n",
       "        -0.57529788, -1.37752283],\n",
       "       [ 0.73822132,  0.79180131, -0.38423209, -0.75694671, -0.50086066,\n",
       "        -0.57529788, -0.63803431],\n",
       "       [-0.65979596, -0.87943956,  1.91039765, -1.47451468,  1.81548409,\n",
       "        -0.57529788, -1.37752283],\n",
       "       [-0.3801925 , -0.21094321,  1.91039765, -1.47451468, -0.41177048,\n",
       "        -0.57529788,  1.21068701],\n",
       "       [-0.3801925 , -0.21094321, -1.178527  ,  0.67818925, -0.50086066,\n",
       "         2.51512695, -0.19434119],\n",
       "       [ 0.17901441,  0.45755314,  0.49831781, -1.47451468, -0.76813121,\n",
       "         1.78796817, -0.3422389 ],\n",
       "       [-0.65979596, -0.87943956, -0.20772211, -0.75694671,  1.54821354,\n",
       "        -0.57529788, -1.37752283],\n",
       "       [-0.65979596, -0.87943956, -0.73725205, -1.47451468,  1.99366446,\n",
       "        -0.57529788, -1.37752283],\n",
       "       [-0.3801925 , -0.21094321,  1.20435773, -1.47451468, -0.58995084,\n",
       "        -0.57529788, -0.63803431],\n",
       "       [-0.3801925 , -0.21094321, -0.2959771 ,  0.67818925,  0.47913135,\n",
       "        -0.57529788,  0.32330078],\n",
       "       [-1.21900287, -1.21368773,  0.05704286,  1.39575722,  0.39004117,\n",
       "        -0.57529788,  0.10145422],\n",
       "       [ 0.73822132,  0.79180131, -0.82550704, -0.75694671,  1.72639391,\n",
       "        -0.57529788, -1.37752283],\n",
       "       [-1.21900287, -1.21368773, -1.09027201,  0.67818925, -0.41177048,\n",
       "        -0.57529788,  1.65438012],\n",
       "       [-1.21900287, -1.21368773,  0.41006282, -0.03937873,  0.39004117,\n",
       "        -0.57529788,  0.02750537],\n",
       "       [ 1.57703169,  0.12330497, -0.03121213,  1.39575722, -0.3226803 ,\n",
       "        -0.57529788,  1.65438012],\n",
       "       [ 1.57703169,  1.46029766, -0.47248708,  1.39575722, -1.03540176,\n",
       "         1.06080938,  0.84094274],\n",
       "       [-0.3801925 , -0.21094321,  1.02784775, -0.03937873, -0.94631158,\n",
       "         0.87901969,  1.0627893 ],\n",
       "       [-0.65979596, -0.87943956, -0.20772211, -0.75694671,  1.54821354,\n",
       "        -0.57529788, -1.37752283],\n",
       "       [-1.21900287, -1.21368773, -0.47248708,  1.39575722,  1.63730372,\n",
       "        -0.57529788, -1.37752283],\n",
       "       [-0.10058905,  0.12330497,  1.29261272, -0.03937873, -0.76813121,\n",
       "         0.69722999,  0.98884045],\n",
       "       [ 1.01782477,  0.9589254 ,  1.73388767,  0.67818925, -0.41177048,\n",
       "        -0.57529788,  1.43253356],\n",
       "       [-0.10058905,  0.12330497, -0.47248708,  1.39575722, -0.76813121,\n",
       "        -0.57529788, -0.3422389 ],\n",
       "       [-1.49860633, -1.5479359 , -0.38423209,  1.39575722,  0.2118608 ,\n",
       "        -0.57529788,  0.02750537],\n",
       "       [-0.93939941, -1.04656364, -0.03121213, -1.47451468,  0.39004117,\n",
       "        -0.57529788,  0.39724963],\n",
       "       [ 2.1362386 ,  1.79454584,  0.41006282, -0.03937873, -0.94631158,\n",
       "         0.87901969,  0.69304504],\n",
       "       [ 0.17901441,  0.45755314,  0.05704286,  1.39575722,  0.2118608 ,\n",
       "        -0.57529788,  0.69304504],\n",
       "       [-0.65979596, -0.87943956,  1.91039765, -1.47451468,  1.81548409,\n",
       "        -0.57529788, -1.37752283]])"
      ]
     },
     "execution_count": 15,
     "metadata": {},
     "output_type": "execute_result"
    }
   ],
   "source": [
    "X_test"
   ]
  },
  {
   "cell_type": "code",
   "execution_count": 16,
   "id": "e2a4148f-db75-42f6-9ca4-3b2565275e0a",
   "metadata": {
    "colab": {
     "base_uri": "https://localhost:8080/",
     "height": 80
    },
    "executionInfo": {
     "elapsed": 625,
     "status": "ok",
     "timestamp": 1731395242299,
     "user": {
      "displayName": "sophia Makandar",
      "userId": "03923072930595316242"
     },
     "user_tz": -330
    },
    "id": "e2a4148f-db75-42f6-9ca4-3b2565275e0a",
    "outputId": "1315a976-c9d8-4710-cb6a-30e69d76a34f"
   },
   "outputs": [
    {
     "data": {
      "text/plain": [
       "RandomForestClassifier(random_state=42)"
      ]
     },
     "execution_count": 16,
     "metadata": {},
     "output_type": "execute_result"
    }
   ],
   "source": [
    "# Step 9: Train a Random Forest Classifier\n",
    "classifier = RandomForestClassifier(n_estimators=100, random_state=42)\n",
    "classifier.fit(X_train, y_train)"
   ]
  },
  {
   "cell_type": "code",
   "execution_count": 17,
   "id": "be6fa4fe-a9ee-45c9-9f1b-8ee794dcb1e6",
   "metadata": {
    "executionInfo": {
     "elapsed": 7,
     "status": "ok",
     "timestamp": 1731395242299,
     "user": {
      "displayName": "sophia Makandar",
      "userId": "03923072930595316242"
     },
     "user_tz": -330
    },
    "id": "be6fa4fe-a9ee-45c9-9f1b-8ee794dcb1e6"
   },
   "outputs": [],
   "source": [
    "# Step 10: Make predictions on the test set\n",
    "y_pred = classifier.predict(X_test)\n"
   ]
  },
  {
   "cell_type": "code",
   "execution_count": 18,
   "id": "f4587cc7-7d8c-4ea1-9851-15514a45e1dd",
   "metadata": {
    "colab": {
     "base_uri": "https://localhost:8080/"
    },
    "executionInfo": {
     "elapsed": 7,
     "status": "ok",
     "timestamp": 1731395242299,
     "user": {
      "displayName": "sophia Makandar",
      "userId": "03923072930595316242"
     },
     "user_tz": -330
    },
    "id": "f4587cc7-7d8c-4ea1-9851-15514a45e1dd",
    "outputId": "efdeb042-4086-4a50-ba10-e72397dc86bd"
   },
   "outputs": [
    {
     "name": "stdout",
     "output_type": "stream",
     "text": [
      "Accuracy: 0.9024390243902439\n"
     ]
    }
   ],
   "source": [
    "\n",
    "# Step 11: Evaluate the model\n",
    "print(\"Accuracy:\", accuracy_score(y_test, y_pred))"
   ]
  },
  {
   "cell_type": "code",
   "execution_count": 19,
   "id": "5fbe842a-aab4-42ca-a473-be5e91b27024",
   "metadata": {
    "colab": {
     "base_uri": "https://localhost:8080/"
    },
    "executionInfo": {
     "elapsed": 5,
     "status": "ok",
     "timestamp": 1731395242299,
     "user": {
      "displayName": "sophia Makandar",
      "userId": "03923072930595316242"
     },
     "user_tz": -330
    },
    "id": "5fbe842a-aab4-42ca-a473-be5e91b27024",
    "outputId": "ebf0dfe8-4cfd-4103-d69c-1a26fcc5eeab"
   },
   "outputs": [
    {
     "name": "stdout",
     "output_type": "stream",
     "text": [
      "Confusion Matrix:\n",
      " [[3 0 0 1 0 0 0 0 0 0 0]\n",
      " [0 5 0 0 0 0 0 0 0 0 0]\n",
      " [0 0 2 0 0 0 0 0 0 0 0]\n",
      " [0 0 0 2 0 0 0 0 0 0 0]\n",
      " [0 0 0 0 4 0 0 1 0 0 0]\n",
      " [0 0 0 0 0 2 0 0 0 0 0]\n",
      " [0 0 0 0 0 0 3 0 0 0 0]\n",
      " [0 0 0 0 0 0 0 4 0 0 0]\n",
      " [0 0 0 0 0 0 0 0 6 0 0]\n",
      " [0 0 2 0 0 0 0 0 0 0 0]\n",
      " [0 0 0 0 0 0 0 0 0 0 6]]\n"
     ]
    }
   ],
   "source": [
    "\n",
    "# Confusion Matrix\n",
    "cm = confusion_matrix(y_test, y_pred)\n",
    "print(\"Confusion Matrix:\\n\", cm)"
   ]
  },
  {
   "cell_type": "code",
   "execution_count": 20,
   "id": "98b54ce7-b7ba-422a-85d4-e013ee9781e9",
   "metadata": {
    "colab": {
     "base_uri": "https://localhost:8080/"
    },
    "executionInfo": {
     "elapsed": 3,
     "status": "ok",
     "timestamp": 1731395242299,
     "user": {
      "displayName": "sophia Makandar",
      "userId": "03923072930595316242"
     },
     "user_tz": -330
    },
    "id": "98b54ce7-b7ba-422a-85d4-e013ee9781e9",
    "outputId": "7ed5f875-a9e4-452f-e34d-e9455a92393d"
   },
   "outputs": [
    {
     "name": "stdout",
     "output_type": "stream",
     "text": [
      "\n",
      "Classification Report:\n",
      "               precision    recall  f1-score   support\n",
      "\n",
      "           0       1.00      0.75      0.86         4\n",
      "           1       1.00      1.00      1.00         5\n",
      "           2       0.50      1.00      0.67         2\n",
      "           3       0.67      1.00      0.80         2\n",
      "           4       1.00      0.80      0.89         5\n",
      "           5       1.00      1.00      1.00         2\n",
      "           6       1.00      1.00      1.00         3\n",
      "           7       0.80      1.00      0.89         4\n",
      "           8       1.00      1.00      1.00         6\n",
      "           9       0.00      0.00      0.00         2\n",
      "          10       1.00      1.00      1.00         6\n",
      "\n",
      "    accuracy                           0.90        41\n",
      "   macro avg       0.82      0.87      0.83        41\n",
      "weighted avg       0.89      0.90      0.89        41\n",
      "\n"
     ]
    },
    {
     "name": "stderr",
     "output_type": "stream",
     "text": [
      "C:\\Users\\aarti\\anaconda3\\lib\\site-packages\\sklearn\\metrics\\_classification.py:1248: UndefinedMetricWarning: Precision and F-score are ill-defined and being set to 0.0 in labels with no predicted samples. Use `zero_division` parameter to control this behavior.\n",
      "  _warn_prf(average, modifier, msg_start, len(result))\n",
      "C:\\Users\\aarti\\anaconda3\\lib\\site-packages\\sklearn\\metrics\\_classification.py:1248: UndefinedMetricWarning: Precision and F-score are ill-defined and being set to 0.0 in labels with no predicted samples. Use `zero_division` parameter to control this behavior.\n",
      "  _warn_prf(average, modifier, msg_start, len(result))\n",
      "C:\\Users\\aarti\\anaconda3\\lib\\site-packages\\sklearn\\metrics\\_classification.py:1248: UndefinedMetricWarning: Precision and F-score are ill-defined and being set to 0.0 in labels with no predicted samples. Use `zero_division` parameter to control this behavior.\n",
      "  _warn_prf(average, modifier, msg_start, len(result))\n"
     ]
    }
   ],
   "source": [
    "\n",
    "# Classification Report\n",
    "print(\"\\nClassification Report:\\n\", classification_report(y_test, y_pred))"
   ]
  },
  {
   "cell_type": "code",
   "execution_count": 21,
   "id": "82859caa-887b-4db4-8acc-4415c50748f5",
   "metadata": {
    "colab": {
     "base_uri": "https://localhost:8080/",
     "height": 637
    },
    "executionInfo": {
     "elapsed": 751,
     "status": "ok",
     "timestamp": 1731395243048,
     "user": {
      "displayName": "sophia Makandar",
      "userId": "03923072930595316242"
     },
     "user_tz": -330
    },
    "id": "82859caa-887b-4db4-8acc-4415c50748f5",
    "outputId": "029be05c-f2ca-491b-82ac-cd3302363298"
   },
   "outputs": [
    {
     "data": {
      "image/png": "[encoded data removed]",
      "text/plain": [
       "<Figure size 576x432 with 2 Axes>"
      ]
     },
     "metadata": {
      "needs_background": "light"
     },
     "output_type": "display_data"
    }
   ],
   "source": [
    "\n",
    "# Step 12: Visualize the confusion matrix\n",
    "plt.figure(figsize=(8,6))\n",
    "sns.heatmap(cm, annot=True, fmt='d', cmap='Blues', xticklabels=encode_crop.classes_, yticklabels=encode_crop.classes_)\n",
    "plt.xlabel('Predicted')\n",
    "plt.ylabel('Actual')\n",
    "plt.title('Confusion Matrix')\n",
    "plt.show()\n"
   ]
  },
  {
   "cell_type": "code",
   "execution_count": 22,
   "id": "a465f266-723d-4798-b000-001f82affffa",
   "metadata": {
    "colab": {
     "base_uri": "https://localhost:8080/"
    },
    "executionInfo": {
     "elapsed": 3,
     "status": "ok",
     "timestamp": 1731395243048,
     "user": {
      "displayName": "sophia Makandar",
      "userId": "03923072930595316242"
     },
     "user_tz": -330
    },
    "id": "a465f266-723d-4798-b000-001f82affffa",
    "outputId": "cddd4611-12c4-4e2a-83af-00c838ee3039"
   },
   "outputs": [
    {
     "name": "stdout",
     "output_type": "stream",
     "text": [
      "Predicted Crop Type: Oil seeds\n"
     ]
    }
   ],
   "source": [
    "# Assuming the Random Forest Classifier is already trained and stored in the variable 'classifier'\n",
    "\n",
    "# Step 1: Prepare the new input data (e.g., [Temperature, Humidity, Moisture, Soil Type, Nitrogen, Potassium, Phosphorous])\n",
    "# Note: Make sure the input is in the same format as the training data\n",
    "new_data = np.array([[29, 58, 33, 'Black', 9, 7, 30]])\n",
    "\n",
    "# Step 2: Convert the 'Soil Type' feature using the same LabelEncoder used for training\n",
    "new_data_df = pd.DataFrame(new_data, columns=['Temparature', 'Humidity', 'Moisture', 'Soil Type', 'Nitrogen', 'Potassium', 'Phosphorous'])\n",
    "\n",
    "# Label encoding for 'Soil Type' (same as training)\n",
    "new_data_df['Soil Type'] = encode_soil.transform(new_data_df['Soil Type'])\n",
    "\n",
    "# Step 3: Scale the new data using the same scaler\n",
    "new_data_scaled = scaler.transform(new_data_df[['Temparature', 'Humidity', 'Moisture', 'Soil Type', 'Nitrogen', 'Potassium', 'Phosphorous']])\n",
    "\n",
    "# Step 4: Make the prediction\n",
    "y_pred_new = classifier.predict(new_data_scaled)\n",
    "\n",
    "# Convert the predicted label back to the original crop type using the reverse label encoding\n",
    "predicted_crop = encode_crop.inverse_transform(y_pred_new)\n",
    "\n",
    "# Print the predicted crop type\n",
    "print(\"Predicted Crop Type:\", predicted_crop[0])\n"
   ]
  },
  {
   "cell_type": "code",
   "execution_count": 23,
   "id": "49cd7131",
   "metadata": {},
   "outputs": [],
   "source": [
    "import joblib\n",
    "joblib.dump(classifier, \"model.joblib\")\n",
    "import joblib\n",
    "classifier = joblib.load(\"model.joblib\")\n"
   ]
  },
  {
   "cell_type": "code",
   "execution_count": 24,
   "id": "02c801d3-04ca-4605-8ec0-0ee38f4ba5a2",
   "metadata": {
    "executionInfo": {
     "elapsed": 704,
     "status": "ok",
     "timestamp": 1731395243750,
     "user": {
      "displayName": "sophia Makandar",
      "userId": "03923072930595316242"
     },
     "user_tz": -330
    },
    "id": "02c801d3-04ca-4605-8ec0-0ee38f4ba5a2"
   },
   "outputs": [],
   "source": [
    "import pickle\n",
    "\n",
    "# Step 1: Save the trained Random Forest model to a pickle file\n",
    "with open('crop_model.pkl', 'wb') as f:\n",
    "    pickle.dump(classifier, f)\n",
    "    \n",
    "# Step 2: Load the trained model from the pickle file\n",
    "with open('crop_model.pkl', 'rb') as f:\n",
    "    loaded_model = pickle.load(f)\n",
    "\n"
   ]
  },
  {
   "cell_type": "code",
   "execution_count": 25,
   "id": "c9c67bb7-468f-4612-a952-0e46e7682887",
   "metadata": {
    "executionInfo": {
     "elapsed": 2,
     "status": "ok",
     "timestamp": 1731395243750,
     "user": {
      "displayName": "sophia Makandar",
      "userId": "03923072930595316242"
     },
     "user_tz": -330
    },
    "id": "c9c67bb7-468f-4612-a952-0e46e7682887"
   },
   "outputs": [],
   "source": [
    "\n",
    "\n",
    "with open('scaler.pkl', 'wb') as f:\n",
    "    pickle.dump(scaler, f)\n",
    "\n",
    "with open('soil_encoder.pkl', 'wb') as f:\n",
    "    pickle.dump(encode_soil, f)\n",
    "\n",
    "with open('crop_encoder.pkl', 'wb') as f:\n",
    "    pickle.dump(encode_crop, f)\n"
   ]
  },
  {
   "cell_type": "code",
   "execution_count": null,
   "id": "a93a26b1",
   "metadata": {},
   "outputs": [],
   "source": []
  }
 ],
 "metadata": {
  "colab": {
   "provenance": []
  },
  "kernelspec": {
   "display_name": "Python 3 (ipykernel)",
   "language": "python",
   "name": "python3"
  },
  "language_info": {
   "codemirror_mode": {
    "name": "ipython",
    "version": 3
   },
   "file_extension": ".py",
   "mimetype": "text/x-python",
   "name": "python",
   "nbconvert_exporter": "python",
   "pygments_lexer": "ipython3",
   "version": "3.9.7"
  }
 },
 "nbformat": 4,
 "nbformat_minor": 5
}
